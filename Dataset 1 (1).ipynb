{
 "cells": [
  {
   "cell_type": "code",
   "execution_count": null,
   "id": "4797b528-3918-4859-bb01-d01e091db308",
   "metadata": {},
   "outputs": [],
   "source": [
    "import pandas as pd\n",
    "import numpy as np\n",
    "import matplotlib.pyplot as plt\n",
    "import seaborn as sns"
   ]
  },
  {
   "cell_type": "code",
   "execution_count": null,
   "id": "ad2028da-071a-4220-aa2b-040d84463a9a",
   "metadata": {},
   "outputs": [],
   "source": [
    "data=pd.read_excel(r'C:\\Users\\LAB-USER-01\\Downloads\\dataset1.xlsx')  #load the dataset"
   ]
  },
  {
   "cell_type": "code",
   "execution_count": 29,
   "id": "51a6f677-089a-469d-a207-427e5efe8a69",
   "metadata": {},
   "outputs": [
    {
     "data": {
      "text/html": [
       "<div>\n",
       "<style scoped>\n",
       "    .dataframe tbody tr th:only-of-type {\n",
       "        vertical-align: middle;\n",
       "    }\n",
       "\n",
       "    .dataframe tbody tr th {\n",
       "        vertical-align: top;\n",
       "    }\n",
       "\n",
       "    .dataframe thead th {\n",
       "        text-align: right;\n",
       "    }\n",
       "</style>\n",
       "<table border=\"1\" class=\"dataframe\">\n",
       "  <thead>\n",
       "    <tr style=\"text-align: right;\">\n",
       "      <th></th>\n",
       "      <th>Month</th>\n",
       "      <th>DayofMonth</th>\n",
       "      <th>DayOfWeek</th>\n",
       "      <th>DepTime</th>\n",
       "      <th>UniqueCarrier</th>\n",
       "      <th>Origin</th>\n",
       "      <th>Dest</th>\n",
       "      <th>Distance</th>\n",
       "      <th>dep_delayed_15min</th>\n",
       "    </tr>\n",
       "  </thead>\n",
       "  <tbody>\n",
       "    <tr>\n",
       "      <th>0</th>\n",
       "      <td>c-8</td>\n",
       "      <td>c-21</td>\n",
       "      <td>c-7</td>\n",
       "      <td>1934</td>\n",
       "      <td>AA</td>\n",
       "      <td>ATL</td>\n",
       "      <td>DFW</td>\n",
       "      <td>732</td>\n",
       "      <td>N</td>\n",
       "    </tr>\n",
       "    <tr>\n",
       "      <th>1</th>\n",
       "      <td>c-4</td>\n",
       "      <td>c-20</td>\n",
       "      <td>c-3</td>\n",
       "      <td>1548</td>\n",
       "      <td>US</td>\n",
       "      <td>PIT</td>\n",
       "      <td>MCO</td>\n",
       "      <td>834</td>\n",
       "      <td>N</td>\n",
       "    </tr>\n",
       "    <tr>\n",
       "      <th>2</th>\n",
       "      <td>c-9</td>\n",
       "      <td>c-2</td>\n",
       "      <td>c-5</td>\n",
       "      <td>1422</td>\n",
       "      <td>XE</td>\n",
       "      <td>RDU</td>\n",
       "      <td>CLE</td>\n",
       "      <td>416</td>\n",
       "      <td>N</td>\n",
       "    </tr>\n",
       "    <tr>\n",
       "      <th>3</th>\n",
       "      <td>c-11</td>\n",
       "      <td>c-25</td>\n",
       "      <td>c-6</td>\n",
       "      <td>1015</td>\n",
       "      <td>OO</td>\n",
       "      <td>DEN</td>\n",
       "      <td>MEM</td>\n",
       "      <td>872</td>\n",
       "      <td>N</td>\n",
       "    </tr>\n",
       "    <tr>\n",
       "      <th>4</th>\n",
       "      <td>c-10</td>\n",
       "      <td>c-7</td>\n",
       "      <td>c-6</td>\n",
       "      <td>1828</td>\n",
       "      <td>WN</td>\n",
       "      <td>MDW</td>\n",
       "      <td>OMA</td>\n",
       "      <td>423</td>\n",
       "      <td>Y</td>\n",
       "    </tr>\n",
       "  </tbody>\n",
       "</table>\n",
       "</div>"
      ],
      "text/plain": [
       "  Month DayofMonth DayOfWeek  DepTime UniqueCarrier Origin Dest  Distance  \\\n",
       "0   c-8       c-21       c-7     1934            AA    ATL  DFW       732   \n",
       "1   c-4       c-20       c-3     1548            US    PIT  MCO       834   \n",
       "2   c-9        c-2       c-5     1422            XE    RDU  CLE       416   \n",
       "3  c-11       c-25       c-6     1015            OO    DEN  MEM       872   \n",
       "4  c-10        c-7       c-6     1828            WN    MDW  OMA       423   \n",
       "\n",
       "  dep_delayed_15min  \n",
       "0                 N  \n",
       "1                 N  \n",
       "2                 N  \n",
       "3                 N  \n",
       "4                 Y  "
      ]
     },
     "execution_count": 29,
     "metadata": {},
     "output_type": "execute_result"
    }
   ],
   "source": [
    "data.head()"
   ]
  },
  {
   "cell_type": "code",
   "execution_count": 31,
   "id": "fd2070ee-3bd3-41e6-9674-9d3c2746b873",
   "metadata": {},
   "outputs": [
    {
     "data": {
      "text/plain": [
       "(100000, 9)"
      ]
     },
     "execution_count": 31,
     "metadata": {},
     "output_type": "execute_result"
    }
   ],
   "source": [
    "data.shape #check the dimension"
   ]
  },
  {
   "cell_type": "code",
   "execution_count": 33,
   "id": "ef395298-8b45-4d23-b886-1d8625dadc19",
   "metadata": {},
   "outputs": [
    {
     "name": "stdout",
     "output_type": "stream",
     "text": [
      "<class 'pandas.core.frame.DataFrame'>\n",
      "RangeIndex: 100000 entries, 0 to 99999\n",
      "Data columns (total 9 columns):\n",
      " #   Column             Non-Null Count   Dtype \n",
      "---  ------             --------------   ----- \n",
      " 0   Month              100000 non-null  object\n",
      " 1   DayofMonth         99995 non-null   object\n",
      " 2   DayOfWeek          100000 non-null  object\n",
      " 3   DepTime            100000 non-null  int64 \n",
      " 4   UniqueCarrier      99996 non-null   object\n",
      " 5   Origin             99996 non-null   object\n",
      " 6   Dest               99999 non-null   object\n",
      " 7   Distance           100000 non-null  int64 \n",
      " 8   dep_delayed_15min  100000 non-null  object\n",
      "dtypes: int64(2), object(7)\n",
      "memory usage: 6.9+ MB\n"
     ]
    }
   ],
   "source": [
    "data.info()"
   ]
  },
  {
   "cell_type": "code",
   "execution_count": null,
   "id": "52580988-26e3-4556-9f60-c5e4faa2fe76",
   "metadata": {},
   "outputs": [],
   "source": [
    "# 1. Calculate the mean, median, and standard deviation for the \"DepTime\" column.\n",
    "#What insights can you draw from these measures?"
   ]
  },
  {
   "cell_type": "code",
   "execution_count": 23,
   "id": "87f603a7-1549-4a9a-be07-50ff044c5c21",
   "metadata": {},
   "outputs": [
    {
     "data": {
      "text/plain": [
       "1341.52388"
      ]
     },
     "execution_count": 23,
     "metadata": {},
     "output_type": "execute_result"
    }
   ],
   "source": [
    "data['DepTime'].mean()"
   ]
  },
  {
   "cell_type": "code",
   "execution_count": 25,
   "id": "38a74092-61bc-4485-9d1e-9619ecee99e8",
   "metadata": {},
   "outputs": [
    {
     "data": {
      "text/plain": [
       "1330.0"
      ]
     },
     "execution_count": 25,
     "metadata": {},
     "output_type": "execute_result"
    }
   ],
   "source": [
    "data['DepTime'].median()"
   ]
  },
  {
   "cell_type": "code",
   "execution_count": 27,
   "id": "c897de7c-534b-439b-a73e-f191d28c79fd",
   "metadata": {},
   "outputs": [
    {
     "data": {
      "text/plain": [
       "476.3784446151376"
      ]
     },
     "execution_count": 27,
     "metadata": {},
     "output_type": "execute_result"
    }
   ],
   "source": [
    "data['DepTime'].std()"
   ]
  },
  {
   "cell_type": "code",
   "execution_count": 10,
   "id": "c478c994-ed7d-4a46-8ea1-02e5916b98e4",
   "metadata": {},
   "outputs": [],
   "source": [
    "# 2. How many unique \"Origin\" and \"Dest\" airports are present in the dataset?\n"
   ]
  },
  {
   "cell_type": "code",
   "execution_count": 11,
   "id": "6b6b7fea-ae44-450e-8012-7f333a673a46",
   "metadata": {},
   "outputs": [
    {
     "data": {
      "text/plain": [
       "289"
      ]
     },
     "execution_count": 11,
     "metadata": {},
     "output_type": "execute_result"
    }
   ],
   "source": [
    "data['Origin'].nunique()   #to get the number of unique values in 'Origin'"
   ]
  },
  {
   "cell_type": "code",
   "execution_count": 12,
   "id": "67a309cf-917a-4e8d-a17f-bbc483145861",
   "metadata": {},
   "outputs": [
    {
     "data": {
      "text/plain": [
       "array(['ATL', 'PIT', 'RDU', 'DEN', 'MDW', 'MEM', 'PBI', 'MSP', 'ONT',\n",
       "       'BDL', 'PHX', 'LAS', 'DFW', 'DSM', 'CMH', 'ORF', 'SLC', 'CLT',\n",
       "       'GSO', 'IAD', 'SMF', 'FLL', 'DAL', 'ORD', 'ITO', 'SAN', 'ROA',\n",
       "       'LGA', 'SFO', 'GSP', 'SEA', 'DAB', 'SJC', 'LIT', 'LAX', 'OAK',\n",
       "       'COS', 'OKC', 'GRR', 'JFK', 'BOI', 'MCI', 'BWI', 'BHM', 'CRP',\n",
       "       'BOS', 'SAT', 'PHL', 'STL', 'CIC', 'AUS', 'IAH', 'COD', 'HNL',\n",
       "       'RNO', 'BNA', 'TPA', 'MIA', 'EVV', 'PNS', 'EWR', 'RSW', 'ANC',\n",
       "       'SNA', 'AMA', 'CID', 'DTW', 'DCA', 'LGB', 'MAF', 'MFE', 'BMI',\n",
       "       'PDX', 'IPL', 'GRB', 'FAR', 'HOU', 'MTJ', 'DRO', 'MLU', 'VPS',\n",
       "       'TUL', 'CVG', 'SBA', 'PWM', 'IDA', 'MCO', 'ACV', 'CHS', 'BGM',\n",
       "       'MSY', 'OGG', 'CLE', 'MOB', 'CAK', 'FAY', 'SHV', 'TUS', 'IND',\n",
       "       'CAE', 'PVD', 'ROC', 'MFR', 'VLD', 'ELP', 'RIC', 'MKE', 'SGF',\n",
       "       'TYS', nan, 'CHO', 'EGE', 'BIS', 'JAN', 'JAX', 'BUF', 'MSO', 'BGR',\n",
       "       'CEC', 'ICT', 'MYR', 'ALB', 'LIH', 'SBP', 'AEX', 'GNV', 'SAV',\n",
       "       'BTM', 'BRO', 'SJU', 'XNA', 'CPR', 'SDF', 'JAC', 'AVL', 'PHF',\n",
       "       'GPT', 'SYR', 'PSP', 'MHT', 'MRY', 'CLD', 'FAT', 'MSN', 'ISP',\n",
       "       'BUR', 'PSC', 'MEI', 'LEX', 'LBB', 'GEG', 'LFT', 'OMA', 'ISO',\n",
       "       'MGM', 'GRK', 'AVP', 'ABQ', 'SRQ', 'BTV', 'FLG', 'BTR', 'MDT',\n",
       "       'ABI', 'TRI', 'ADQ', 'FSM', 'SMX', 'RST', 'RAP', 'ILM', 'SIT',\n",
       "       'EKO', 'DBQ', 'CHA', 'BQK', 'BZN', 'MOD', 'MOT', 'MLB', 'TVC',\n",
       "       'LAN', 'DAY', 'HSV', 'EUG', 'SGU', 'ACT', 'AGS', 'CLL', 'HLN',\n",
       "       'LNK', 'ASE', 'HRL', 'ATW', 'CMI', 'LWS', 'DHN', 'FNT', 'FLO',\n",
       "       'RDM', 'TYR', 'KOA', 'FAI', 'OME', 'RDD', 'MCN', 'TLH', 'MQT',\n",
       "       'AZO', 'FCA', 'CRW', 'TOL', 'HPN', 'FSD', 'FWA', 'SUN', 'LAW',\n",
       "       'YUM', 'PIA', 'GTF', 'ACY', 'PIH', 'SPS', 'MLI', 'BIL', 'TWF',\n",
       "       'HTS', 'SBN', 'PFN', 'GJT', 'CSG', 'JNU', 'TXK', 'LRD', 'BQN',\n",
       "       'CWA', 'SWF', 'GTR', 'BFL', 'OXR', 'KTN', 'PIE', 'SCE', 'PSG',\n",
       "       'DLH', 'SJT', 'GUC', 'SPI', 'IYK', 'ABY', 'STT', 'ABE', 'GFK',\n",
       "       'HDN', 'CDV', 'MBS', 'TUP', 'LCH', 'EYW', 'OTZ', 'ADK', 'GGG',\n",
       "       'VIS', 'GST', 'LYH', 'HVN', 'BRW', 'LSE', 'ERI', 'HKY', 'BET',\n",
       "       'CDC', 'OAJ', 'WRG', 'ACK', 'DLG', 'YAK', 'AKN', 'TEX', 'STX',\n",
       "       'SCC', 'APF', 'BPT', 'WYS', 'RFD', 'BLI', 'ILG', 'VCT', 'LWB',\n",
       "       'PSE'], dtype=object)"
      ]
     },
     "execution_count": 12,
     "metadata": {},
     "output_type": "execute_result"
    }
   ],
   "source": [
    "data['Origin'].unique()   #to get the unique values in 'Origin'"
   ]
  },
  {
   "cell_type": "code",
   "execution_count": 13,
   "id": "a2d3c951-4b2e-40ea-8364-419059c7e5c3",
   "metadata": {},
   "outputs": [
    {
     "data": {
      "text/plain": [
       "289"
      ]
     },
     "execution_count": 13,
     "metadata": {},
     "output_type": "execute_result"
    }
   ],
   "source": [
    "data['Dest'].nunique()     #to get the number of unique values in 'Dest'"
   ]
  },
  {
   "cell_type": "code",
   "execution_count": 14,
   "id": "bdafc0fc-828e-4441-8719-d24e299c0777",
   "metadata": {},
   "outputs": [
    {
     "data": {
      "text/plain": [
       "array(['DFW', 'MCO', 'CLE', 'MEM', 'OMA', 'LGA', 'CVG', 'PSC', 'STL',\n",
       "       'SEA', 'SJC', 'ORD', 'IAH', 'ATL', 'CMH', 'ILM', 'MSP', 'PHX',\n",
       "       'AUS', 'SYR', 'LAX', 'HNL', 'ORF', 'MYR', 'PDX', 'CHS', 'SMF',\n",
       "       'DTW', 'SNA', 'PHL', 'IAD', 'LAS', 'OGG', 'ABI', 'SLC', 'EWR',\n",
       "       'PVD', 'SFO', 'RDU', 'MDW', 'DAL', 'SAT', 'RNO', 'JAX', 'HRL',\n",
       "       'JAN', 'ISP', 'TPA', 'JFK', 'FCA', 'PIT', 'CLT', 'BUF', 'OKC',\n",
       "       'ANC', 'SAN', 'BET', 'FLL', 'SBA', 'GJT', 'DEN', 'MIA', 'BZN',\n",
       "       'FWA', 'BDL', 'BOI', 'GSO', 'GSP', 'OAK', 'LAN', 'YUM', 'MKE',\n",
       "       'MQT', 'ONT', 'ELP', 'LBB', 'PBI', 'SJU', 'ACY', 'CAK', 'ABQ',\n",
       "       'KOA', 'BNA', 'IDA', 'EVV', 'LEX', 'ITO', 'SBP', 'BOS', 'KTN',\n",
       "       'SGF', 'HOU', 'ALB', 'TUL', 'ABE', 'AMA', 'LIT', 'IND', 'ROA',\n",
       "       'ROC', 'SAV', 'TOL', 'FAT', 'MCI', 'MSN', nan, 'DCA', 'GRR', 'BUR',\n",
       "       'AVL', 'MLU', 'ACV', 'RIC', 'COS', 'DAY', 'GRB', 'CRP', 'FNT',\n",
       "       'ICT', 'TLH', 'XNA', 'CRW', 'GEG', 'HPN', 'VPS', 'CMI', 'LNK',\n",
       "       'EYW', 'BWI', 'MAF', 'HSV', 'TUS', 'PSP', 'SHV', 'MSY', 'LIH',\n",
       "       'FAR', 'EUG', 'SDF', 'MHT', 'DSM', 'FLO', 'ISO', 'MFE', 'RDD',\n",
       "       'BHM', 'BMI', 'FSD', 'RSW', 'FAY', 'CAE', 'MTJ', 'LWB', 'CLD',\n",
       "       'RAP', 'PWM', 'GPT', 'TYS', 'SRQ', 'MBS', 'AVP', 'AZO', 'CEC',\n",
       "       'MFR', 'DAB', 'TUP', 'CID', 'PNS', 'JNU', 'GNV', 'MRY', 'SGU',\n",
       "       'MOB', 'PHF', 'LAW', 'MEI', 'LFT', 'EGE', 'GUC', 'TRI', 'LGB',\n",
       "       'BIL', 'CSG', 'SCE', 'GTF', 'BFL', 'FAI', 'EKO', 'DRO', 'BQK',\n",
       "       'TVC', 'MDT', 'CLL', 'HTS', 'LSE', 'MSO', 'JAC', 'RDM', 'MLI',\n",
       "       'MOD', 'CPR', 'VLD', 'BTR', 'CHA', 'STT', 'MOT', 'BTV', 'SPS',\n",
       "       'PIH', 'PIA', 'LWS', 'SMX', 'BGR', 'SJT', 'STX', 'VIS', 'HDN',\n",
       "       'ACT', 'GRK', 'BRO', 'FSM', 'LCH', 'DBQ', 'DHN', 'MLB', 'IPL',\n",
       "       'PFN', 'GGG', 'SBN', 'OXR', 'IYK', 'LRD', 'TWF', 'PSG', 'RST',\n",
       "       'BQN', 'BPT', 'AEX', 'ERI', 'CIC', 'MGM', 'CDC', 'PIE', 'BIS',\n",
       "       'SWF', 'DLG', 'SUN', 'COD', 'ASE', 'ATW', 'OME', 'GTR', 'CHO',\n",
       "       'GFK', 'BLI', 'ABY', 'TXK', 'APF', 'DLH', 'TYR', 'LYH', 'SPI',\n",
       "       'HLN', 'YAK', 'CWA', 'MCN', 'ILG', 'AKN', 'SIT', 'FLG', 'HVN',\n",
       "       'BRW', 'BTM', 'BGM', 'OTZ', 'SCC', 'CDV', 'WRG', 'AGS', 'HKY',\n",
       "       'RFD', 'SOP', 'WYS', 'PSE', 'ADQ', 'GST', 'TEX', 'ACK', 'TTN',\n",
       "       'VCT'], dtype=object)"
      ]
     },
     "execution_count": 14,
     "metadata": {},
     "output_type": "execute_result"
    }
   ],
   "source": [
    "data['Dest'].unique()     #to get the unique values in 'Dest'"
   ]
  },
  {
   "cell_type": "code",
   "execution_count": 15,
   "id": "868aee15-8f86-4c20-a201-79a979f115bd",
   "metadata": {},
   "outputs": [],
   "source": [
    "# 3. Find the distribution of flights across different \"UniqueCarrier.\" \n",
    "# Which carrier has the highest number of flights?\n",
    "\n",
    "\n",
    "\n"
   ]
  },
  {
   "cell_type": "code",
   "execution_count": 35,
   "id": "1d792e11-d42c-477b-899d-1757a201849f",
   "metadata": {},
   "outputs": [
    {
     "data": {
      "image/png": "[encoded data removed]",
      "text/plain": [
       "<Figure size 1200x600 with 1 Axes>"
      ]
     },
     "metadata": {},
     "output_type": "display_data"
    }
   ],
   "source": [
    "# 4. Create a bar chart to show the number of flights per carrier. \n",
    "# What patterns or trends do you notice?\n",
    "\n",
    "\n",
    "\n",
    "carrier_counts = data['UniqueCarrier'].value_counts()\n",
    "\n",
    "plt.figure(figsize=(12, 6))\n",
    "carrier_counts.plot(kind='bar', color='skyblue')\n",
    "plt.title('Number of Flights per Carrier')\n",
    "plt.xlabel('Carrier')\n",
    "plt.ylabel('Number of Flights')\n",
    "plt.xticks(rotation=45)\n",
    "plt.show()\n",
    "\n",
    "\n"
   ]
  },
  {
   "cell_type": "code",
   "execution_count": 41,
   "id": "636455fa-014b-4312-9073-e9b4fdccab70",
   "metadata": {},
   "outputs": [
    {
     "data": {
      "image/png": "[encoded data removed]",
      "text/plain": [
       "<Figure size 1000x600 with 1 Axes>"
      ]
     },
     "metadata": {},
     "output_type": "display_data"
    }
   ],
   "source": [
    "# 5. Analyze the frequency distribution of flights across different \"DayOfWeek.\" \n",
    "# Which day of the week has the highest number of flights?\n",
    "\n",
    "\n",
    "day_counts = data['DayOfWeek'].value_counts().sort_index()\n",
    "plt.figure(figsize=(10, 6))\n",
    "day_counts.plot(kind='bar', color='green')\n",
    "plt.title('Number of Flights per Day of the Week')\n",
    "plt.xlabel('Day of the Week')\n",
    "plt.ylabel('Number of Flights')\n",
    "plt.xticks(rotation=0) \n",
    "plt.grid(axis='y')\n",
    "plt.show()\n",
    "\n",
    "\n",
    "\n"
   ]
  },
  {
   "cell_type": "code",
   "execution_count": null,
   "id": "641c9b0f-0635-4815-a206-b9c04b47a9f9",
   "metadata": {},
   "outputs": [],
   "source": [
    "# 6. Is there any relationship between the \"Distance\" and whether a flight is delayed? \n",
    "#Use correlation or scatter plots to support your analysis.\n",
    "\n",
    "import seaborn as sns\n",
    "\n",
    "plt.figure(figsize=(6,6))\n",
    "sns.scatterplot(x='Distance',y='dep_delayed_15min',data=data)\n",
    "plt.xlabel(\"Distance\")\n",
    "plt.ylabel(\"dep_delayed_15min\")\n",
    "plt.show()\n",
    "    "
   ]
  },
  {
   "cell_type": "code",
   "execution_count": null,
   "id": "a7a9b579-e353-425b-bddf-8a5c41e0c3a1",
   "metadata": {},
   "outputs": [],
   "source": [
    "# 7. Are longer-distance flights more or less likely to be delayed?\n",
    "\n",
    "#Longer diatance flights are more likely to be delayed"
   ]
  },
  {
   "cell_type": "code",
   "execution_count": null,
   "id": "59ff1888-7789-4a65-905f-7d0c7a4a2440",
   "metadata": {},
   "outputs": [],
   "source": []
  },
  {
   "cell_type": "code",
   "execution_count": null,
   "id": "5f8a8a7a-b2cb-4973-bc81-ef969d59888e",
   "metadata": {},
   "outputs": [],
   "source": []
  }
 ],
 "metadata": {
  "kernelspec": {
   "display_name": "Python 3 (ipykernel)",
   "language": "python",
   "name": "python3"
  },
  "language_info": {
   "codemirror_mode": {
    "name": "ipython",
    "version": 3
   },
   "file_extension": ".py",
   "mimetype": "text/x-python",
   "name": "python",
   "nbconvert_exporter": "python",
   "pygments_lexer": "ipython3",
   "version": "3.12.7"
  }
 },
 "nbformat": 4,
 "nbformat_minor": 5
}
